{
 "cells": [
  {
   "cell_type": "code",
   "execution_count": 3,
   "metadata": {},
   "outputs": [
    {
     "name": "stdout",
     "output_type": "stream",
     "text": [
      "[1, 4, 9, 16, 25, 36, 49, 64, 81, 100, 121, 144, 169, 196, 225, 256, 289, 324, 361]\n"
     ]
    }
   ],
   "source": [
    "lst = range(1,20)\n",
    "a = [i*i for i in lst]\n",
    "print(a)"
   ]
  },
  {
   "cell_type": "code",
   "execution_count": 7,
   "metadata": {},
   "outputs": [
    {
     "name": "stdout",
     "output_type": "stream",
     "text": [
      "enter any integer12\n",
      "enter any integer34\n",
      "34\n"
     ]
    }
   ],
   "source": [
    "a = [int(input(\"enter any integer\")),int(input(\"enter any integer\"))]\n",
    "maxVar = lambda a : a[0] if a[0] > a[1] else a[1]\n",
    "print(maxVar(a))"
   ]
  },
  {
   "cell_type": "code",
   "execution_count": 18,
   "metadata": {},
   "outputs": [
    {
     "name": "stdout",
     "output_type": "stream",
     "text": [
      "{0, 1, 2, 3, 4, 5, 6, 7, 8, 9, 10, 11, 12, 13, 14}\n",
      "{0, 1, 2, 3, 4, 10, 11, 12, 13, 14}\n"
     ]
    }
   ],
   "source": [
    "setA={1,2,3,4,5,6,7,8,9}\n",
    "setB={0,10,11,12,13,14,1,2,3,4}\n",
    "setA.update(setB)\n",
    "print(setA)\n",
    "print(setB)"
   ]
  },
  {
   "cell_type": "code",
   "execution_count": 19,
   "metadata": {},
   "outputs": [
    {
     "data": {
      "text/plain": [
       "{0, 1, 2, 3, 4, 10, 11, 12, 13, 14}"
      ]
     },
     "execution_count": 19,
     "metadata": {},
     "output_type": "execute_result"
    }
   ],
   "source": [
    "setA.intersection_update(setB)\n",
    "setA"
   ]
  },
  {
   "cell_type": "code",
   "execution_count": 20,
   "metadata": {},
   "outputs": [
    {
     "data": {
      "text/plain": [
       "{0, 1, 2, 3, 4, 10, 11, 12, 13, 14}"
      ]
     },
     "execution_count": 20,
     "metadata": {},
     "output_type": "execute_result"
    }
   ],
   "source": [
    "setB.intersection_update(setA)\n",
    "setB"
   ]
  },
  {
   "cell_type": "code",
   "execution_count": 26,
   "metadata": {},
   "outputs": [
    {
     "data": {
      "text/plain": [
       "{3, 4, 5, 6}"
      ]
     },
     "execution_count": 26,
     "metadata": {},
     "output_type": "execute_result"
    }
   ],
   "source": [
    "setA={1,2,3,4,5,6}\n",
    "setB={0,1,2,8,9,10}\n",
    "setA.difference_update(setB)\n",
    "setA"
   ]
  },
  {
   "cell_type": "code",
   "execution_count": 27,
   "metadata": {},
   "outputs": [
    {
     "data": {
      "text/plain": [
       "{0, 8, 9, 10}"
      ]
     },
     "execution_count": 27,
     "metadata": {},
     "output_type": "execute_result"
    }
   ],
   "source": [
    "setA={1,2,3,4,5,6}\n",
    "setB={0,1,2,8,9,10}\n",
    "setB.difference_update(setA)\n",
    "setB"
   ]
  },
  {
   "cell_type": "markdown",
   "metadata": {},
   "source": [
    "# Formatting styles"
   ]
  },
  {
   "cell_type": "code",
   "execution_count": 28,
   "metadata": {},
   "outputs": [
    {
     "data": {
      "text/plain": [
       "'the float value is 2.135'"
      ]
     },
     "execution_count": 28,
     "metadata": {},
     "output_type": "execute_result"
    }
   ],
   "source": [
    "a=\"the float value is {0:.3f}\".format(2.13456789)\n",
    "a"
   ]
  },
  {
   "cell_type": "code",
   "execution_count": 31,
   "metadata": {},
   "outputs": [
    {
     "data": {
      "text/plain": [
       "'the float value is 2.1'"
      ]
     },
     "execution_count": 31,
     "metadata": {},
     "output_type": "execute_result"
    }
   ],
   "source": [
    "a=\"the float value is {0:.1f}\".format(2.13456789)\n",
    "a"
   ]
  },
  {
   "cell_type": "code",
   "execution_count": 33,
   "metadata": {},
   "outputs": [
    {
     "data": {
      "text/plain": [
       "'the float value is 2.13'"
      ]
     },
     "execution_count": 33,
     "metadata": {},
     "output_type": "execute_result"
    }
   ],
   "source": [
    "a=\"the float value is {0:.2f}\".format(2.13456789)\n",
    "a"
   ]
  },
  {
   "cell_type": "code",
   "execution_count": 37,
   "metadata": {},
   "outputs": [
    {
     "data": {
      "text/plain": [
       "'the float value is 2.1346'"
      ]
     },
     "execution_count": 37,
     "metadata": {},
     "output_type": "execute_result"
    }
   ],
   "source": [
    "a=\"the float value is {0:.4f}\".format(2.13456789)\n",
    "a"
   ]
  },
  {
   "cell_type": "code",
   "execution_count": 47,
   "metadata": {},
   "outputs": [
    {
     "data": {
      "text/plain": [
       "'the float value is 2.134568e+00'"
      ]
     },
     "execution_count": 47,
     "metadata": {},
     "output_type": "execute_result"
    }
   ],
   "source": [
    "a=\"the float value is {0:e}\".format(2.13456789)\n",
    "a"
   ]
  },
  {
   "cell_type": "code",
   "execution_count": 49,
   "metadata": {},
   "outputs": [
    {
     "data": {
      "text/plain": [
       "'the float value is 10'"
      ]
     },
     "execution_count": 49,
     "metadata": {},
     "output_type": "execute_result"
    }
   ],
   "source": [
    "a=\"the float value is {0:b}\".format(2)\n",
    "a"
   ]
  },
  {
   "cell_type": "code",
   "execution_count": 54,
   "metadata": {},
   "outputs": [
    {
     "data": {
      "text/plain": [
       "'the float value is 10100 11110 1011010'"
      ]
     },
     "execution_count": 54,
     "metadata": {},
     "output_type": "execute_result"
    }
   ],
   "source": [
    "a=\"the float value is {0:b} {1:b} {2:b}\".format(20,30,90)\n",
    "a"
   ]
  },
  {
   "cell_type": "code",
   "execution_count": 55,
   "metadata": {},
   "outputs": [
    {
     "data": {
      "text/plain": [
       "'my name is aamir and his name is abdullah'"
      ]
     },
     "execution_count": 55,
     "metadata": {},
     "output_type": "execute_result"
    }
   ],
   "source": [
    "\"my name is %s and his name is %s\"%(\"aamir\",\"abdullah\")"
   ]
  },
  {
   "cell_type": "code",
   "execution_count": 56,
   "metadata": {},
   "outputs": [
    {
     "data": {
      "text/plain": [
       "'his age is 21 and my age is 22'"
      ]
     },
     "execution_count": 56,
     "metadata": {},
     "output_type": "execute_result"
    }
   ],
   "source": [
    "\"his age is %d and my age is %d\"%(21,22)"
   ]
  },
  {
   "cell_type": "code",
   "execution_count": 61,
   "metadata": {},
   "outputs": [
    {
     "data": {
      "text/plain": [
       "'he is 127.5 inches tall and i am 123.768 inches tall'"
      ]
     },
     "execution_count": 61,
     "metadata": {},
     "output_type": "execute_result"
    }
   ],
   "source": [
    "\"he is {0:.1f} inches tall and i am {1:.3f} inches tall\".format(127.5,123.768)"
   ]
  },
  {
   "cell_type": "code",
   "execution_count": 62,
   "metadata": {},
   "outputs": [
    {
     "data": {
      "text/plain": [
       "'he is 127.500000 inches tall and i am 123.768000 inches tall'"
      ]
     },
     "execution_count": 62,
     "metadata": {},
     "output_type": "execute_result"
    }
   ],
   "source": [
    "\"he is %f inches tall and i am %f inches tall\"%(127.5,123.768)"
   ]
  },
  {
   "cell_type": "code",
   "execution_count": 63,
   "metadata": {},
   "outputs": [
    {
     "data": {
      "text/plain": [
       "'he is 127.5 inches tall and i am 123.768 inches tall'"
      ]
     },
     "execution_count": 63,
     "metadata": {},
     "output_type": "execute_result"
    }
   ],
   "source": [
    "\"he is %.1f inches tall and i am %.3f inches tall\"%(127.5,123.768)"
   ]
  },
  {
   "cell_type": "code",
   "execution_count": 237,
   "metadata": {},
   "outputs": [
    {
     "data": {
      "text/plain": [
       "Counter({'a': 10,\n",
       "         'm': 11,\n",
       "         'd': 7,\n",
       "         'n': 8,\n",
       "         's': 29,\n",
       "         'i': 7,\n",
       "         'w': 2,\n",
       "         'u': 1,\n",
       "         'j': 1,\n",
       "         'x': 1,\n",
       "         'h': 1})"
      ]
     },
     "execution_count": 237,
     "metadata": {},
     "output_type": "execute_result"
    }
   ],
   "source": [
    "from collections import Counter\n",
    "strr=tuple(\"aaaaaaaaaammmmmmmmmmmddddddnnnnnnnssssssiiiiiiiwwudjssssssssssssnxhsssssssssss\")\n",
    "count = Counter(strr)\n",
    "count"
   ]
  },
  {
   "cell_type": "code",
   "execution_count": 71,
   "metadata": {},
   "outputs": [
    {
     "data": {
      "text/plain": [
       "dict_keys(['a', 'm', 'd', 'n', 's', 'i', 'w', 'u', 'j', 'x', 'h'])"
      ]
     },
     "execution_count": 71,
     "metadata": {},
     "output_type": "execute_result"
    }
   ],
   "source": [
    "count.keys()"
   ]
  },
  {
   "cell_type": "code",
   "execution_count": 72,
   "metadata": {},
   "outputs": [
    {
     "data": {
      "text/plain": [
       "dict_values([10, 11, 7, 8, 29, 7, 2, 1, 1, 1, 1])"
      ]
     },
     "execution_count": 72,
     "metadata": {},
     "output_type": "execute_result"
    }
   ],
   "source": [
    "count.values()"
   ]
  },
  {
   "cell_type": "code",
   "execution_count": 77,
   "metadata": {},
   "outputs": [
    {
     "data": {
      "text/plain": [
       "[('a', 10),\n",
       " ('m', 11),\n",
       " ('d', 7),\n",
       " ('n', 8),\n",
       " ('s', 29),\n",
       " ('i', 7),\n",
       " ('w', 2),\n",
       " ('u', 1),\n",
       " ('j', 1),\n",
       " ('x', 1),\n",
       " ('h', 1)]"
      ]
     },
     "execution_count": 77,
     "metadata": {},
     "output_type": "execute_result"
    }
   ],
   "source": [
    "a=count.items()\n",
    "a=list(a)\n",
    "a"
   ]
  },
  {
   "cell_type": "code",
   "execution_count": 86,
   "metadata": {},
   "outputs": [
    {
     "name": "stdout",
     "output_type": "stream",
     "text": [
      "key is: a and value is: 10\n",
      "key is: m and value is: 11\n",
      "key is: d and value is: 7\n",
      "key is: n and value is: 8\n",
      "key is: s and value is: 29\n",
      "key is: i and value is: 7\n",
      "key is: w and value is: 2\n",
      "key is: u and value is: 1\n",
      "key is: j and value is: 1\n",
      "key is: x and value is: 1\n",
      "key is: h and value is: 1\n"
     ]
    }
   ],
   "source": [
    "for i in a:\n",
    "    print(\"key is: {} and value is: {}\".format(*i))"
   ]
  },
  {
   "cell_type": "code",
   "execution_count": 95,
   "metadata": {},
   "outputs": [
    {
     "name": "stdout",
     "output_type": "stream",
     "text": [
      "name: aamir jan khan    father's name: muhammad khalid raheel khan    age: 21    course: A.i    timing: 9 to 12\n"
     ]
    }
   ],
   "source": [
    "def func1(name,fname,age,course,timing):\n",
    "    return \"name: {}\\\n",
    "    father\\'s name: {}\\\n",
    "    age: {}\\\n",
    "    course: {}\\\n",
    "    timing: {}\".format(name,fname,age,course,timing)\n",
    "d1={\n",
    "    \"name\":\"aamir jan khan\",\n",
    "    \"fname\":\"muhammad khalid raheel khan\",\n",
    "    \"age\":21,\n",
    "    \"course\":\"A.i\",\n",
    "    \"timing\":\"9 to 12\"\n",
    "}\n",
    "print(func1(**d1))"
   ]
  },
  {
   "cell_type": "code",
   "execution_count": 112,
   "metadata": {},
   "outputs": [
    {
     "name": "stdout",
     "output_type": "stream",
     "text": [
      "Person(name='aamir jan khan', age=21)\n",
      "<class '__main__.Person'>\n",
      "aamir jan khan 21\n"
     ]
    }
   ],
   "source": [
    "from collections import namedtuple\n",
    "Person=namedtuple(\"Person\",\"name, age\")\n",
    "feild=Person(name=\"aamir jan khan\",age=21)\n",
    "print(feild)\n",
    "print(Person)\n",
    "print(feild.name,feild.age)"
   ]
  },
  {
   "cell_type": "code",
   "execution_count": 115,
   "metadata": {},
   "outputs": [
    {
     "name": "stdout",
     "output_type": "stream",
     "text": [
      "enter name: aamir\n",
      "enter fathers name: khalid\n",
      "enter course: ai\n",
      "enter timing: 9-12\n",
      "Person(Name='aamir', FathersName='khalid', Course='ai', Timing='9-12')\n",
      "enter name: abdullah\n",
      "enter fathers name: khalid\n",
      "enter course: ai\n",
      "enter timing: 9-12\n",
      "Person(Name='abdullah', FathersName='khalid', Course='ai', Timing='9-12')\n",
      "enter name: a\n",
      "enter fathers name: a\n",
      "enter course: a\n",
      "enter timing: a\n",
      "Person(Name='a', FathersName='a', Course='a', Timing='a')\n",
      "enter name: a\n",
      "enter fathers name: a\n",
      "enter course: a\n",
      "enter timing: a\n",
      "Person(Name='a', FathersName='a', Course='a', Timing='a')\n",
      "enter name: a\n",
      "enter fathers name: a\n",
      "enter course: a\n",
      "enter timing: a\n",
      "Person(Name='a', FathersName='a', Course='a', Timing='a')\n"
     ]
    }
   ],
   "source": [
    "Person=namedtuple(\"Person\",\"Name, FathersName, Course, Timing\")\n",
    "for i in range(5):\n",
    "    feild=Person(Name=input(\"enter name: \"),FathersName=input(\"enter fathers name: \"),Course=input(\"enter course: \"),Timing=input(\"enter timing: \"))\n",
    "    print(feild)"
   ]
  },
  {
   "cell_type": "code",
   "execution_count": 151,
   "metadata": {},
   "outputs": [
    {
     "data": {
      "text/plain": [
       "OrderedDict([('A', 1), ('B', 2), ('C', 3), ('D', 4), ('E', 5), ('F', 6)])"
      ]
     },
     "execution_count": 151,
     "metadata": {},
     "output_type": "execute_result"
    }
   ],
   "source": [
    "from collections import OrderedDict\n",
    "a = OrderedDict()\n",
    "a[\"A\"]=1\n",
    "a[\"B\"]=2\n",
    "a[\"C\"]=3\n",
    "a[\"D\"]=4\n",
    "a[\"E\"]=5\n",
    "a[\"F\"]=6\n",
    "a"
   ]
  },
  {
   "cell_type": "markdown",
   "metadata": {},
   "source": [
    "# Lambda Function"
   ]
  },
  {
   "cell_type": "code",
   "execution_count": 160,
   "metadata": {},
   "outputs": [
    {
     "data": {
      "text/plain": [
       "[(2, 4, -10), (-1, 54, 0), (12, -3, 1), (5, 6, 2), (1, 0, 5)]"
      ]
     },
     "execution_count": 160,
     "metadata": {},
     "output_type": "execute_result"
    }
   ],
   "source": [
    "points_2d = [(12,-3,1),(1,0,5),(5,6,2),(2,4,-10),(-1,54,0)]\n",
    "sort = sorted(points_2d, key=lambda x: x[2])\n",
    "sort"
   ]
  },
  {
   "cell_type": "code",
   "execution_count": 163,
   "metadata": {},
   "outputs": [
    {
     "data": {
      "text/plain": [
       "[(-1, 54, 0), (1, 0, 5), (2, 4, -10), (5, 6, 2), (12, -3, 1)]"
      ]
     },
     "execution_count": 163,
     "metadata": {},
     "output_type": "execute_result"
    }
   ],
   "source": [
    "points_2d = [(12,-3,1),(1,0,5),(5,6,2),(2,4,-10),(-1,54,0)]\n",
    "sort = sorted(points_2d, key=lambda x:x[0])\n",
    "sort"
   ]
  },
  {
   "cell_type": "code",
   "execution_count": 165,
   "metadata": {},
   "outputs": [
    {
     "data": {
      "text/plain": [
       "[(12, -3, 1), (1, 0, 5), (2, 4, -10), (5, 6, 2), (-1, 54, 0)]"
      ]
     },
     "execution_count": 165,
     "metadata": {},
     "output_type": "execute_result"
    }
   ],
   "source": [
    "points_2d = [(12,-3,1),(1,0,5),(5,6,2),(2,4,-10),(-1,54,0)]\n",
    "sort = sorted(points_2d, key=lambda x: x[1])\n",
    "sort"
   ]
  },
  {
   "cell_type": "code",
   "execution_count": 166,
   "metadata": {},
   "outputs": [
    {
     "data": {
      "text/plain": [
       "[1, 4, 9, 16, 25, 36, 49, 64, 81]"
      ]
     },
     "execution_count": 166,
     "metadata": {},
     "output_type": "execute_result"
    }
   ],
   "source": [
    "a = [1,2,3,4,5,6,7,8,9]\n",
    "list(map(lambda x: x*x, a))"
   ]
  },
  {
   "cell_type": "code",
   "execution_count": 167,
   "metadata": {},
   "outputs": [
    {
     "data": {
      "text/plain": [
       "[1, 4, 9, 16, 25, 36, 49, 64, 81]"
      ]
     },
     "execution_count": 167,
     "metadata": {},
     "output_type": "execute_result"
    }
   ],
   "source": [
    "[x*x for x in a]"
   ]
  },
  {
   "cell_type": "code",
   "execution_count": 169,
   "metadata": {},
   "outputs": [
    {
     "data": {
      "text/plain": [
       "[2, 4, 6, 8]"
      ]
     },
     "execution_count": 169,
     "metadata": {},
     "output_type": "execute_result"
    }
   ],
   "source": [
    "list(filter(lambda x: x%2==0, a))"
   ]
  },
  {
   "cell_type": "code",
   "execution_count": 171,
   "metadata": {},
   "outputs": [
    {
     "data": {
      "text/plain": [
       "[2, 4, 6, 8]"
      ]
     },
     "execution_count": 171,
     "metadata": {},
     "output_type": "execute_result"
    }
   ],
   "source": [
    "[x for x in a if x%2==0]"
   ]
  },
  {
   "cell_type": "code",
   "execution_count": 173,
   "metadata": {},
   "outputs": [
    {
     "data": {
      "text/plain": [
       "362880"
      ]
     },
     "execution_count": 173,
     "metadata": {},
     "output_type": "execute_result"
    }
   ],
   "source": [
    "from functools import reduce\n",
    "reduce(lambda x,y: x*y, a)"
   ]
  },
  {
   "cell_type": "code",
   "execution_count": 197,
   "metadata": {},
   "outputs": [
    {
     "data": {
      "text/plain": [
       "362880"
      ]
     },
     "execution_count": 197,
     "metadata": {},
     "output_type": "execute_result"
    }
   ],
   "source": [
    "a = [1,2,3,4,5,6,7,8,9]\n",
    "reduce(lambda x,y: (x*y), a)"
   ]
  },
  {
   "cell_type": "code",
   "execution_count": 205,
   "metadata": {},
   "outputs": [
    {
     "ename": "FileNotFoundError",
     "evalue": "[Errno 2] No such file or directory: 'ali.txt'",
     "output_type": "error",
     "traceback": [
      "\u001b[1;31m---------------------------------------------------------------------------\u001b[0m",
      "\u001b[1;31mFileNotFoundError\u001b[0m                         Traceback (most recent call last)",
      "\u001b[1;32m<ipython-input-205-2c76396a41e5>\u001b[0m in \u001b[0;36m<module>\u001b[1;34m\u001b[0m\n\u001b[1;32m----> 1\u001b[1;33m \u001b[1;32massert\u001b[0m \u001b[1;33m(\u001b[0m\u001b[0mopen\u001b[0m\u001b[1;33m(\u001b[0m\u001b[1;34m\"ali.txt\"\u001b[0m\u001b[1;33m,\u001b[0m\u001b[1;34m\"r\"\u001b[0m\u001b[1;33m)\u001b[0m\u001b[1;33m)\u001b[0m\u001b[1;33m,\u001b[0m \u001b[1;34m'file not found'\u001b[0m\u001b[1;33m\u001b[0m\u001b[1;33m\u001b[0m\u001b[0m\n\u001b[0m",
      "\u001b[1;31mFileNotFoundError\u001b[0m: [Errno 2] No such file or directory: 'ali.txt'"
     ]
    }
   ],
   "source": [
    "assert (open(\"ali.txt\",\"r\")), 'file not found'"
   ]
  },
  {
   "cell_type": "code",
   "execution_count": 206,
   "metadata": {},
   "outputs": [],
   "source": [
    "assert (open(\"aamir.txt\",\"r\")) , 'file not found...'"
   ]
  },
  {
   "cell_type": "code",
   "execution_count": 210,
   "metadata": {},
   "outputs": [
    {
     "ename": "FileNotFoundError",
     "evalue": "[Errno 2] No such file or directory: 'ali.txt'",
     "output_type": "error",
     "traceback": [
      "\u001b[1;31m---------------------------------------------------------------------------\u001b[0m",
      "\u001b[1;31mFileNotFoundError\u001b[0m                         Traceback (most recent call last)",
      "\u001b[1;32m<ipython-input-210-fb51cfafd9f0>\u001b[0m in \u001b[0;36m<module>\u001b[1;34m\u001b[0m\n\u001b[1;32m----> 1\u001b[1;33m \u001b[0mfrr\u001b[0m \u001b[1;33m=\u001b[0m \u001b[0mopen\u001b[0m\u001b[1;33m(\u001b[0m\u001b[1;34m\"ali.txt\"\u001b[0m\u001b[1;33m,\u001b[0m\u001b[1;34m\"r\"\u001b[0m\u001b[1;33m)\u001b[0m\u001b[1;33m\u001b[0m\u001b[1;33m\u001b[0m\u001b[0m\n\u001b[0m\u001b[0;32m      2\u001b[0m \u001b[1;32mif\u001b[0m \u001b[0mfrr\u001b[0m\u001b[1;33m.\u001b[0m\u001b[0mreadable\u001b[0m\u001b[1;33m:\u001b[0m\u001b[1;33m\u001b[0m\u001b[1;33m\u001b[0m\u001b[0m\n\u001b[0;32m      3\u001b[0m     \u001b[1;32mraise\u001b[0m \u001b[0mException\u001b[0m\u001b[1;33m(\u001b[0m\u001b[1;34m'file not found'\u001b[0m\u001b[1;33m)\u001b[0m\u001b[1;33m\u001b[0m\u001b[1;33m\u001b[0m\u001b[0m\n",
      "\u001b[1;31mFileNotFoundError\u001b[0m: [Errno 2] No such file or directory: 'ali.txt'"
     ]
    }
   ],
   "source": [
    "frr = open(\"ali.txt\",\"r\")\n",
    "if frr.readable:\n",
    "    raise Exception('file not found')"
   ]
  },
  {
   "cell_type": "code",
   "execution_count": 222,
   "metadata": {},
   "outputs": [
    {
     "name": "stdout",
     "output_type": "stream",
     "text": [
      "[Errno 2] No such file or directory: 'ali.txt'\n",
      "division by zero\n"
     ]
    }
   ],
   "source": [
    "try:\n",
    "    open(\"ali.txt\",\"r\")\n",
    "except Exception as e:\n",
    "    print(e)\n",
    "try:\n",
    "    5/0\n",
    "except ZeroDivisionError as e:\n",
    "    print(e)"
   ]
  },
  {
   "cell_type": "code",
   "execution_count": 223,
   "metadata": {},
   "outputs": [
    {
     "name": "stdout",
     "output_type": "stream",
     "text": [
      "unsupported operand type(s) for +: 'int' and 'str'\n"
     ]
    }
   ],
   "source": [
    "try:\n",
    "    5+'A'\n",
    "except TypeError as e:\n",
    "    print(e)"
   ]
  },
  {
   "cell_type": "code",
   "execution_count": 225,
   "metadata": {},
   "outputs": [
    {
     "name": "stdout",
     "output_type": "stream",
     "text": [
      "2.5\n",
      ":-)\n"
     ]
    }
   ],
   "source": [
    "try:\n",
    "    print(5/2)\n",
    "except Exception as e:\n",
    "    print(e)\n",
    "else:\n",
    "    print(\":-)\")"
   ]
  },
  {
   "cell_type": "code",
   "execution_count": 231,
   "metadata": {},
   "outputs": [
    {
     "name": "stdout",
     "output_type": "stream",
     "text": [
      "can only concatenate str (not \"int\") to str\n",
      "so here we are...\n"
     ]
    }
   ],
   "source": [
    "try:\n",
    "    \"A\"+3\n",
    "    5/0\n",
    "    2.0+2.0+'A'\n",
    "except TypeError as e:\n",
    "    print(e)\n",
    "except ZeroDivisionError as e:\n",
    "    print(e)\n",
    "else:\n",
    "    print(\":-)\")\n",
    "finally:\n",
    "    print(\"so here we are...\")"
   ]
  },
  {
   "cell_type": "code",
   "execution_count": 233,
   "metadata": {},
   "outputs": [
    {
     "name": "stdout",
     "output_type": "stream",
     "text": [
      "division by zero\n",
      "so here we are...\n"
     ]
    }
   ],
   "source": [
    "try:\n",
    "    5/0\n",
    "    2.0+2.0+'A'\n",
    "except TypeError as e:\n",
    "    print(e)\n",
    "except ZeroDivisionError as e:\n",
    "    print(e)\n",
    "else:\n",
    "    print(\":-)\")\n",
    "finally:\n",
    "    print(\"so here we are...\")"
   ]
  },
  {
   "cell_type": "code",
   "execution_count": null,
   "metadata": {},
   "outputs": [],
   "source": []
  }
 ],
 "metadata": {
  "kernelspec": {
   "display_name": "Python 3",
   "language": "python",
   "name": "python3"
  },
  "language_info": {
   "codemirror_mode": {
    "name": "ipython",
    "version": 3
   },
   "file_extension": ".py",
   "mimetype": "text/x-python",
   "name": "python",
   "nbconvert_exporter": "python",
   "pygments_lexer": "ipython3",
   "version": "3.7.4"
  }
 },
 "nbformat": 4,
 "nbformat_minor": 2
}
